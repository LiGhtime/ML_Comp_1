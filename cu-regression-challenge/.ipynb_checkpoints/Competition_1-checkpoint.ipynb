{
 "cells": [
  {
   "cell_type": "code",
   "execution_count": 2,
   "metadata": {
    "_cell_guid": "b1076dfc-b9ad-4769-8c92-a6c4dae69d19",
    "_uuid": "8f2839f25d086af736a60e9eeb907d3b93b6e0e5"
   },
   "outputs": [],
   "source": [
    "# This Python 3 environment comes with many helpful analytics libraries installed\n",
    "# It is defined by the kaggle/python docker image: https://github.com/kaggle/docker-python\n",
    "# For example, here's several helpful packages to load in \n",
    "\n",
    "import numpy as np # linear algebra\n",
    "import pandas as pd # data processing, CSV file I/O (e.g. pd.read_csv)\n",
    "\n",
    "# Input data files are available in the \"../input/\" directory.\n",
    "# For example, running this (by clicking run or pressing Shift+Enter) will list all files under the input directory\n",
    "\n",
    "#import os\n",
    "#for dirname, _, filenames in os.walk('./'):\n",
    "#    for filename in filenames:\n",
    "#        print(os.path.join(dirname, filename))\n",
    "\n",
    "# Any results you write to the current directory are saved as output.\n",
    "\n",
    "#import\n",
    "import matplotlib.pyplot as plt\n",
    "import seaborn as sns\n",
    "import mpl_toolkits\n",
    "\n",
    "from scipy.stats import norm"
   ]
  },
  {
   "cell_type": "code",
   "execution_count": 3,
   "metadata": {
    "_cell_guid": "79c7e3d0-c299-4dcb-8224-4455121ee9b0",
    "_uuid": "d629ff2d2480ee46fbb7e2d37f6b5fab8052498a"
   },
   "outputs": [],
   "source": [
    "train_data = pd.read_csv(\"train_data.csv\")\n",
    "val_data = pd.read_csv(\"val_data.csv\")"
   ]
  },
  {
   "cell_type": "code",
   "execution_count": 4,
   "metadata": {},
   "outputs": [
    {
     "data": {
      "text/html": [
       "<div>\n",
       "<style scoped>\n",
       "    .dataframe tbody tr th:only-of-type {\n",
       "        vertical-align: middle;\n",
       "    }\n",
       "\n",
       "    .dataframe tbody tr th {\n",
       "        vertical-align: top;\n",
       "    }\n",
       "\n",
       "    .dataframe thead th {\n",
       "        text-align: right;\n",
       "    }\n",
       "</style>\n",
       "<table border=\"1\" class=\"dataframe\">\n",
       "  <thead>\n",
       "    <tr style=\"text-align: right;\">\n",
       "      <th></th>\n",
       "      <th>Unique_idx</th>\n",
       "      <th>id</th>\n",
       "      <th>date</th>\n",
       "      <th>bedrooms</th>\n",
       "      <th>bathrooms</th>\n",
       "      <th>sqft_living</th>\n",
       "      <th>sqft_lot</th>\n",
       "      <th>floors</th>\n",
       "      <th>waterfront</th>\n",
       "      <th>view</th>\n",
       "      <th>...</th>\n",
       "      <th>sqft_above</th>\n",
       "      <th>sqft_basement</th>\n",
       "      <th>yr_built</th>\n",
       "      <th>yr_renovated</th>\n",
       "      <th>zipcode</th>\n",
       "      <th>lat</th>\n",
       "      <th>long</th>\n",
       "      <th>sqft_living15</th>\n",
       "      <th>sqft_lot15</th>\n",
       "      <th>price</th>\n",
       "    </tr>\n",
       "  </thead>\n",
       "  <tbody>\n",
       "    <tr>\n",
       "      <td>0</td>\n",
       "      <td>7291</td>\n",
       "      <td>4058200630</td>\n",
       "      <td>20141002T000000</td>\n",
       "      <td>3</td>\n",
       "      <td>1.75</td>\n",
       "      <td>2190</td>\n",
       "      <td>7021</td>\n",
       "      <td>1.0</td>\n",
       "      <td>0</td>\n",
       "      <td>2</td>\n",
       "      <td>...</td>\n",
       "      <td>1390</td>\n",
       "      <td>800</td>\n",
       "      <td>1953</td>\n",
       "      <td>0</td>\n",
       "      <td>98178</td>\n",
       "      <td>47.5033</td>\n",
       "      <td>-122.232</td>\n",
       "      <td>2180</td>\n",
       "      <td>7155</td>\n",
       "      <td>353000</td>\n",
       "    </tr>\n",
       "    <tr>\n",
       "      <td>1</td>\n",
       "      <td>14835</td>\n",
       "      <td>3613600150</td>\n",
       "      <td>20150105T000000</td>\n",
       "      <td>3</td>\n",
       "      <td>2.50</td>\n",
       "      <td>2370</td>\n",
       "      <td>6840</td>\n",
       "      <td>2.0</td>\n",
       "      <td>0</td>\n",
       "      <td>0</td>\n",
       "      <td>...</td>\n",
       "      <td>2370</td>\n",
       "      <td>0</td>\n",
       "      <td>1987</td>\n",
       "      <td>0</td>\n",
       "      <td>98119</td>\n",
       "      <td>47.6503</td>\n",
       "      <td>-122.366</td>\n",
       "      <td>1590</td>\n",
       "      <td>4400</td>\n",
       "      <td>300523</td>\n",
       "    </tr>\n",
       "    <tr>\n",
       "      <td>2</td>\n",
       "      <td>15880</td>\n",
       "      <td>7170200080</td>\n",
       "      <td>20140617T000000</td>\n",
       "      <td>2</td>\n",
       "      <td>1.00</td>\n",
       "      <td>1230</td>\n",
       "      <td>3800</td>\n",
       "      <td>1.0</td>\n",
       "      <td>0</td>\n",
       "      <td>0</td>\n",
       "      <td>...</td>\n",
       "      <td>1230</td>\n",
       "      <td>0</td>\n",
       "      <td>1928</td>\n",
       "      <td>0</td>\n",
       "      <td>98115</td>\n",
       "      <td>47.6797</td>\n",
       "      <td>-122.292</td>\n",
       "      <td>1610</td>\n",
       "      <td>3800</td>\n",
       "      <td>435000</td>\n",
       "    </tr>\n",
       "    <tr>\n",
       "      <td>3</td>\n",
       "      <td>8812</td>\n",
       "      <td>9542300530</td>\n",
       "      <td>20141124T000000</td>\n",
       "      <td>4</td>\n",
       "      <td>2.25</td>\n",
       "      <td>2510</td>\n",
       "      <td>9963</td>\n",
       "      <td>1.0</td>\n",
       "      <td>0</td>\n",
       "      <td>0</td>\n",
       "      <td>...</td>\n",
       "      <td>2200</td>\n",
       "      <td>310</td>\n",
       "      <td>1967</td>\n",
       "      <td>0</td>\n",
       "      <td>98005</td>\n",
       "      <td>47.5973</td>\n",
       "      <td>-122.177</td>\n",
       "      <td>3110</td>\n",
       "      <td>9963</td>\n",
       "      <td>800000</td>\n",
       "    </tr>\n",
       "    <tr>\n",
       "      <td>4</td>\n",
       "      <td>17220</td>\n",
       "      <td>3626039028</td>\n",
       "      <td>20140818T000000</td>\n",
       "      <td>3</td>\n",
       "      <td>1.00</td>\n",
       "      <td>1160</td>\n",
       "      <td>7491</td>\n",
       "      <td>1.0</td>\n",
       "      <td>0</td>\n",
       "      <td>0</td>\n",
       "      <td>...</td>\n",
       "      <td>1160</td>\n",
       "      <td>0</td>\n",
       "      <td>1917</td>\n",
       "      <td>0</td>\n",
       "      <td>98177</td>\n",
       "      <td>47.7024</td>\n",
       "      <td>-122.359</td>\n",
       "      <td>1800</td>\n",
       "      <td>2267</td>\n",
       "      <td>417500</td>\n",
       "    </tr>\n",
       "  </tbody>\n",
       "</table>\n",
       "<p>5 rows × 22 columns</p>\n",
       "</div>"
      ],
      "text/plain": [
       "   Unique_idx          id             date  bedrooms  bathrooms  sqft_living  \\\n",
       "0        7291  4058200630  20141002T000000         3       1.75         2190   \n",
       "1       14835  3613600150  20150105T000000         3       2.50         2370   \n",
       "2       15880  7170200080  20140617T000000         2       1.00         1230   \n",
       "3        8812  9542300530  20141124T000000         4       2.25         2510   \n",
       "4       17220  3626039028  20140818T000000         3       1.00         1160   \n",
       "\n",
       "   sqft_lot  floors  waterfront  view  ...  sqft_above  sqft_basement  \\\n",
       "0      7021     1.0           0     2  ...        1390            800   \n",
       "1      6840     2.0           0     0  ...        2370              0   \n",
       "2      3800     1.0           0     0  ...        1230              0   \n",
       "3      9963     1.0           0     0  ...        2200            310   \n",
       "4      7491     1.0           0     0  ...        1160              0   \n",
       "\n",
       "   yr_built  yr_renovated  zipcode      lat     long  sqft_living15  \\\n",
       "0      1953             0    98178  47.5033 -122.232           2180   \n",
       "1      1987             0    98119  47.6503 -122.366           1590   \n",
       "2      1928             0    98115  47.6797 -122.292           1610   \n",
       "3      1967             0    98005  47.5973 -122.177           3110   \n",
       "4      1917             0    98177  47.7024 -122.359           1800   \n",
       "\n",
       "   sqft_lot15   price  \n",
       "0        7155  353000  \n",
       "1        4400  300523  \n",
       "2        3800  435000  \n",
       "3        9963  800000  \n",
       "4        2267  417500  \n",
       "\n",
       "[5 rows x 22 columns]"
      ]
     },
     "execution_count": 4,
     "metadata": {},
     "output_type": "execute_result"
    }
   ],
   "source": [
    "train_data.head()"
   ]
  },
  {
   "cell_type": "code",
   "execution_count": 5,
   "metadata": {},
   "outputs": [
    {
     "data": {
      "text/html": [
       "<div>\n",
       "<style scoped>\n",
       "    .dataframe tbody tr th:only-of-type {\n",
       "        vertical-align: middle;\n",
       "    }\n",
       "\n",
       "    .dataframe tbody tr th {\n",
       "        vertical-align: top;\n",
       "    }\n",
       "\n",
       "    .dataframe thead th {\n",
       "        text-align: right;\n",
       "    }\n",
       "</style>\n",
       "<table border=\"1\" class=\"dataframe\">\n",
       "  <thead>\n",
       "    <tr style=\"text-align: right;\">\n",
       "      <th></th>\n",
       "      <th>Unique_idx</th>\n",
       "      <th>id</th>\n",
       "      <th>bedrooms</th>\n",
       "      <th>bathrooms</th>\n",
       "      <th>sqft_living</th>\n",
       "      <th>sqft_lot</th>\n",
       "      <th>floors</th>\n",
       "      <th>waterfront</th>\n",
       "      <th>view</th>\n",
       "      <th>condition</th>\n",
       "      <th>...</th>\n",
       "      <th>sqft_above</th>\n",
       "      <th>sqft_basement</th>\n",
       "      <th>yr_built</th>\n",
       "      <th>yr_renovated</th>\n",
       "      <th>zipcode</th>\n",
       "      <th>lat</th>\n",
       "      <th>long</th>\n",
       "      <th>sqft_living15</th>\n",
       "      <th>sqft_lot15</th>\n",
       "      <th>price</th>\n",
       "    </tr>\n",
       "  </thead>\n",
       "  <tbody>\n",
       "    <tr>\n",
       "      <td>count</td>\n",
       "      <td>17290.000000</td>\n",
       "      <td>1.729000e+04</td>\n",
       "      <td>17290.000000</td>\n",
       "      <td>17290.000000</td>\n",
       "      <td>17290.000000</td>\n",
       "      <td>1.729000e+04</td>\n",
       "      <td>17290.000000</td>\n",
       "      <td>17290.000000</td>\n",
       "      <td>17290.000000</td>\n",
       "      <td>17290.000000</td>\n",
       "      <td>...</td>\n",
       "      <td>17290.000000</td>\n",
       "      <td>17290.000000</td>\n",
       "      <td>17290.000000</td>\n",
       "      <td>17290.000000</td>\n",
       "      <td>17290.000000</td>\n",
       "      <td>17290.000000</td>\n",
       "      <td>17290.000000</td>\n",
       "      <td>17290.000000</td>\n",
       "      <td>17290.000000</td>\n",
       "      <td>1.729000e+04</td>\n",
       "    </tr>\n",
       "    <tr>\n",
       "      <td>mean</td>\n",
       "      <td>10821.135454</td>\n",
       "      <td>4.577035e+09</td>\n",
       "      <td>3.366455</td>\n",
       "      <td>2.111567</td>\n",
       "      <td>2074.586293</td>\n",
       "      <td>1.521099e+04</td>\n",
       "      <td>1.493522</td>\n",
       "      <td>0.007750</td>\n",
       "      <td>0.234182</td>\n",
       "      <td>3.410700</td>\n",
       "      <td>...</td>\n",
       "      <td>1782.821920</td>\n",
       "      <td>291.764372</td>\n",
       "      <td>1970.915095</td>\n",
       "      <td>84.596992</td>\n",
       "      <td>98078.057779</td>\n",
       "      <td>47.559674</td>\n",
       "      <td>-122.214147</td>\n",
       "      <td>1984.131463</td>\n",
       "      <td>12790.231984</td>\n",
       "      <td>5.378806e+05</td>\n",
       "    </tr>\n",
       "    <tr>\n",
       "      <td>std</td>\n",
       "      <td>6233.894051</td>\n",
       "      <td>2.877097e+09</td>\n",
       "      <td>0.934061</td>\n",
       "      <td>0.765353</td>\n",
       "      <td>903.771540</td>\n",
       "      <td>4.282989e+04</td>\n",
       "      <td>0.540177</td>\n",
       "      <td>0.087696</td>\n",
       "      <td>0.763897</td>\n",
       "      <td>0.651334</td>\n",
       "      <td>...</td>\n",
       "      <td>816.765091</td>\n",
       "      <td>441.081555</td>\n",
       "      <td>29.418996</td>\n",
       "      <td>402.087484</td>\n",
       "      <td>53.559522</td>\n",
       "      <td>0.138770</td>\n",
       "      <td>0.140738</td>\n",
       "      <td>681.613827</td>\n",
       "      <td>27728.922431</td>\n",
       "      <td>3.539798e+05</td>\n",
       "    </tr>\n",
       "    <tr>\n",
       "      <td>min</td>\n",
       "      <td>0.000000</td>\n",
       "      <td>1.000102e+06</td>\n",
       "      <td>0.000000</td>\n",
       "      <td>0.000000</td>\n",
       "      <td>370.000000</td>\n",
       "      <td>5.200000e+02</td>\n",
       "      <td>1.000000</td>\n",
       "      <td>0.000000</td>\n",
       "      <td>0.000000</td>\n",
       "      <td>1.000000</td>\n",
       "      <td>...</td>\n",
       "      <td>370.000000</td>\n",
       "      <td>0.000000</td>\n",
       "      <td>1900.000000</td>\n",
       "      <td>0.000000</td>\n",
       "      <td>98001.000000</td>\n",
       "      <td>47.155900</td>\n",
       "      <td>-122.519000</td>\n",
       "      <td>399.000000</td>\n",
       "      <td>659.000000</td>\n",
       "      <td>7.500000e+04</td>\n",
       "    </tr>\n",
       "    <tr>\n",
       "      <td>25%</td>\n",
       "      <td>5408.500000</td>\n",
       "      <td>2.122785e+09</td>\n",
       "      <td>3.000000</td>\n",
       "      <td>1.500000</td>\n",
       "      <td>1420.000000</td>\n",
       "      <td>5.040000e+03</td>\n",
       "      <td>1.000000</td>\n",
       "      <td>0.000000</td>\n",
       "      <td>0.000000</td>\n",
       "      <td>3.000000</td>\n",
       "      <td>...</td>\n",
       "      <td>1190.000000</td>\n",
       "      <td>0.000000</td>\n",
       "      <td>1951.000000</td>\n",
       "      <td>0.000000</td>\n",
       "      <td>98033.000000</td>\n",
       "      <td>47.470225</td>\n",
       "      <td>-122.329000</td>\n",
       "      <td>1490.000000</td>\n",
       "      <td>5100.000000</td>\n",
       "      <td>3.220000e+05</td>\n",
       "    </tr>\n",
       "    <tr>\n",
       "      <td>50%</td>\n",
       "      <td>10857.500000</td>\n",
       "      <td>3.904921e+09</td>\n",
       "      <td>3.000000</td>\n",
       "      <td>2.250000</td>\n",
       "      <td>1920.000000</td>\n",
       "      <td>7.605000e+03</td>\n",
       "      <td>1.500000</td>\n",
       "      <td>0.000000</td>\n",
       "      <td>0.000000</td>\n",
       "      <td>3.000000</td>\n",
       "      <td>...</td>\n",
       "      <td>1560.000000</td>\n",
       "      <td>0.000000</td>\n",
       "      <td>1975.000000</td>\n",
       "      <td>0.000000</td>\n",
       "      <td>98065.000000</td>\n",
       "      <td>47.571300</td>\n",
       "      <td>-122.231000</td>\n",
       "      <td>1840.000000</td>\n",
       "      <td>7615.000000</td>\n",
       "      <td>4.500000e+05</td>\n",
       "    </tr>\n",
       "    <tr>\n",
       "      <td>75%</td>\n",
       "      <td>16222.500000</td>\n",
       "      <td>7.308600e+09</td>\n",
       "      <td>4.000000</td>\n",
       "      <td>2.500000</td>\n",
       "      <td>2550.000000</td>\n",
       "      <td>1.063075e+04</td>\n",
       "      <td>2.000000</td>\n",
       "      <td>0.000000</td>\n",
       "      <td>0.000000</td>\n",
       "      <td>4.000000</td>\n",
       "      <td>...</td>\n",
       "      <td>2210.000000</td>\n",
       "      <td>560.000000</td>\n",
       "      <td>1997.000000</td>\n",
       "      <td>0.000000</td>\n",
       "      <td>98118.000000</td>\n",
       "      <td>47.677700</td>\n",
       "      <td>-122.125000</td>\n",
       "      <td>2360.000000</td>\n",
       "      <td>10067.500000</td>\n",
       "      <td>6.450000e+05</td>\n",
       "    </tr>\n",
       "    <tr>\n",
       "      <td>max</td>\n",
       "      <td>21612.000000</td>\n",
       "      <td>9.900000e+09</td>\n",
       "      <td>33.000000</td>\n",
       "      <td>6.750000</td>\n",
       "      <td>9640.000000</td>\n",
       "      <td>1.651359e+06</td>\n",
       "      <td>3.500000</td>\n",
       "      <td>1.000000</td>\n",
       "      <td>4.000000</td>\n",
       "      <td>5.000000</td>\n",
       "      <td>...</td>\n",
       "      <td>8020.000000</td>\n",
       "      <td>4820.000000</td>\n",
       "      <td>2015.000000</td>\n",
       "      <td>2015.000000</td>\n",
       "      <td>98199.000000</td>\n",
       "      <td>47.777600</td>\n",
       "      <td>-121.315000</td>\n",
       "      <td>5790.000000</td>\n",
       "      <td>871200.000000</td>\n",
       "      <td>5.570000e+06</td>\n",
       "    </tr>\n",
       "  </tbody>\n",
       "</table>\n",
       "<p>8 rows × 21 columns</p>\n",
       "</div>"
      ],
      "text/plain": [
       "         Unique_idx            id      bedrooms     bathrooms   sqft_living  \\\n",
       "count  17290.000000  1.729000e+04  17290.000000  17290.000000  17290.000000   \n",
       "mean   10821.135454  4.577035e+09      3.366455      2.111567   2074.586293   \n",
       "std     6233.894051  2.877097e+09      0.934061      0.765353    903.771540   \n",
       "min        0.000000  1.000102e+06      0.000000      0.000000    370.000000   \n",
       "25%     5408.500000  2.122785e+09      3.000000      1.500000   1420.000000   \n",
       "50%    10857.500000  3.904921e+09      3.000000      2.250000   1920.000000   \n",
       "75%    16222.500000  7.308600e+09      4.000000      2.500000   2550.000000   \n",
       "max    21612.000000  9.900000e+09     33.000000      6.750000   9640.000000   \n",
       "\n",
       "           sqft_lot        floors    waterfront          view     condition  \\\n",
       "count  1.729000e+04  17290.000000  17290.000000  17290.000000  17290.000000   \n",
       "mean   1.521099e+04      1.493522      0.007750      0.234182      3.410700   \n",
       "std    4.282989e+04      0.540177      0.087696      0.763897      0.651334   \n",
       "min    5.200000e+02      1.000000      0.000000      0.000000      1.000000   \n",
       "25%    5.040000e+03      1.000000      0.000000      0.000000      3.000000   \n",
       "50%    7.605000e+03      1.500000      0.000000      0.000000      3.000000   \n",
       "75%    1.063075e+04      2.000000      0.000000      0.000000      4.000000   \n",
       "max    1.651359e+06      3.500000      1.000000      4.000000      5.000000   \n",
       "\n",
       "       ...    sqft_above  sqft_basement      yr_built  yr_renovated  \\\n",
       "count  ...  17290.000000   17290.000000  17290.000000  17290.000000   \n",
       "mean   ...   1782.821920     291.764372   1970.915095     84.596992   \n",
       "std    ...    816.765091     441.081555     29.418996    402.087484   \n",
       "min    ...    370.000000       0.000000   1900.000000      0.000000   \n",
       "25%    ...   1190.000000       0.000000   1951.000000      0.000000   \n",
       "50%    ...   1560.000000       0.000000   1975.000000      0.000000   \n",
       "75%    ...   2210.000000     560.000000   1997.000000      0.000000   \n",
       "max    ...   8020.000000    4820.000000   2015.000000   2015.000000   \n",
       "\n",
       "            zipcode           lat          long  sqft_living15     sqft_lot15  \\\n",
       "count  17290.000000  17290.000000  17290.000000   17290.000000   17290.000000   \n",
       "mean   98078.057779     47.559674   -122.214147    1984.131463   12790.231984   \n",
       "std       53.559522      0.138770      0.140738     681.613827   27728.922431   \n",
       "min    98001.000000     47.155900   -122.519000     399.000000     659.000000   \n",
       "25%    98033.000000     47.470225   -122.329000    1490.000000    5100.000000   \n",
       "50%    98065.000000     47.571300   -122.231000    1840.000000    7615.000000   \n",
       "75%    98118.000000     47.677700   -122.125000    2360.000000   10067.500000   \n",
       "max    98199.000000     47.777600   -121.315000    5790.000000  871200.000000   \n",
       "\n",
       "              price  \n",
       "count  1.729000e+04  \n",
       "mean   5.378806e+05  \n",
       "std    3.539798e+05  \n",
       "min    7.500000e+04  \n",
       "25%    3.220000e+05  \n",
       "50%    4.500000e+05  \n",
       "75%    6.450000e+05  \n",
       "max    5.570000e+06  \n",
       "\n",
       "[8 rows x 21 columns]"
      ]
     },
     "execution_count": 5,
     "metadata": {},
     "output_type": "execute_result"
    }
   ],
   "source": [
    "train_data.describe()"
   ]
  },
  {
   "cell_type": "code",
   "execution_count": 7,
   "metadata": {},
   "outputs": [
    {
     "data": {
      "text/plain": [
       "Text(0.5, 1.0, 'Price vs Square Feet')"
      ]
     },
     "execution_count": 7,
     "metadata": {},
     "output_type": "execute_result"
    },
    {
     "data": {
      "image/png": "[encoded data removed]",
      "text/plain": [
       "<Figure size 432x288 with 1 Axes>"
      ]
     },
     "metadata": {
      "needs_background": "light"
     },
     "output_type": "display_data"
    }
   ],
   "source": [
    "plt.scatter(train_data.price,train_data.sqft_living)\n",
    "plt.title(\"Price vs Square Feet\")"
   ]
  },
  {
   "cell_type": "code",
   "execution_count": 8,
   "metadata": {},
   "outputs": [
    {
     "data": {
      "text/plain": [
       "<Figure size 720x720 with 0 Axes>"
      ]
     },
     "metadata": {},
     "output_type": "display_data"
    },
    {
     "data": {
      "image/png": "[encoded data removed]",
      "text/plain": [
       "<Figure size 720x720 with 3 Axes>"
      ]
     },
     "metadata": {
      "needs_background": "light"
     },
     "output_type": "display_data"
    },
    {
     "data": {
      "text/plain": [
       "<function seaborn.utils.despine(fig=None, ax=None, top=True, right=True, left=False, bottom=False, offset=None, trim=False)>"
      ]
     },
     "execution_count": 8,
     "metadata": {},
     "output_type": "execute_result"
    }
   ],
   "source": [
    "plt.figure(figsize=(10,10))\n",
    "sns.jointplot(x=train_data.lat.values, y=train_data.long.values, height=10)\n",
    "plt.ylabel('Longitude', fontsize=12)\n",
    "plt.xlabel('Latitude', fontsize=12)\n",
    "plt.show()\n",
    "sns.despine"
   ]
  },
  {
   "cell_type": "code",
   "execution_count": 13,
   "metadata": {},
   "outputs": [
    {
     "data": {
      "text/plain": [
       "Text(0.5, 1.0, 'Price vs longitute')"
      ]
     },
     "execution_count": 13,
     "metadata": {},
     "output_type": "execute_result"
    },
    {
     "data": {
      "image/png": "[encoded data removed]",
      "text/plain": [
       "<Figure size 432x288 with 1 Axes>"
      ]
     },
     "metadata": {
      "needs_background": "light"
     },
     "output_type": "display_data"
    }
   ],
   "source": [
    "plt.scatter(train_data.price,train_data.long)\n",
    "plt.title(\"Price vs longitute\")"
   ]
  },
  {
   "cell_type": "code",
   "execution_count": 11,
   "metadata": {},
   "outputs": [
    {
     "data": {
      "text/plain": [
       "Text(0.5, 1.0, 'Latitude vs Price')"
      ]
     },
     "execution_count": 11,
     "metadata": {},
     "output_type": "execute_result"
    },
    {
     "data": {
      "image/png": "[encoded data removed]",
      "text/plain": [
       "<Figure size 432x288 with 1 Axes>"
      ]
     },
     "metadata": {
      "needs_background": "light"
     },
     "output_type": "display_data"
    }
   ],
   "source": [
    "plt.scatter(train_data.price,train_data.lat)\n",
    "plt.xlabel(\"Price\")\n",
    "plt.ylabel('Latitude')\n",
    "plt.title(\"Latitude vs Price\")"
   ]
  },
  {
   "cell_type": "code",
   "execution_count": 15,
   "metadata": {},
   "outputs": [
    {
     "data": {
      "text/plain": [
       "<matplotlib.collections.PathCollection at 0x1068ceb0>"
      ]
     },
     "execution_count": 15,
     "metadata": {},
     "output_type": "execute_result"
    },
    {
     "data": {
      "image/png": "[encoded data removed]",
      "text/plain": [
       "<Figure size 432x288 with 1 Axes>"
      ]
     },
     "metadata": {
      "needs_background": "light"
     },
     "output_type": "display_data"
    }
   ],
   "source": [
    "plt.scatter((train_data['sqft_living']+train_data['sqft_basement']),train_data['price'])"
   ]
  },
  {
   "cell_type": "code",
   "execution_count": 17,
   "metadata": {},
   "outputs": [
    {
     "data": {
      "text/plain": [
       "Text(0.5, 1.0, 'Waterfront vs Price ( 0= no waterfront)')"
      ]
     },
     "execution_count": 17,
     "metadata": {},
     "output_type": "execute_result"
    },
    {
     "data": {
      "image/png": "[encoded data removed]",
      "text/plain": [
       "<Figure size 432x288 with 1 Axes>"
      ]
     },
     "metadata": {
      "needs_background": "light"
     },
     "output_type": "display_data"
    }
   ],
   "source": [
    "plt.scatter(train_data.waterfront,train_data.price)\n",
    "plt.title(\"Waterfront vs Price ( 0= no waterfront)\")"
   ]
  },
  {
   "cell_type": "code",
   "execution_count": 52,
   "metadata": {
    "scrolled": true
   },
   "outputs": [
    {
     "data": {
      "text/plain": [
       "(0.0, 920.0)"
      ]
     },
     "execution_count": 52,
     "metadata": {},
     "output_type": "execute_result"
    },
    {
     "data": {
      "image/png": "[encoded data removed]",
      "text/plain": [
       "<Figure size 432x288 with 1 Axes>"
      ]
     },
     "metadata": {
      "needs_background": "light"
     },
     "output_type": "display_data"
    }
   ],
   "source": [
    "# plot the frequencies of prices\n",
    "# num_bins = 140\n",
    "# mean = np.mean(train_data.price)\n",
    "# sigma = np.std(train_data.price)\n",
    "# # the histogram of the data\n",
    "# n, bins, patches = plt.hist(train_data.price, num_bins)\n",
    "\n",
    "# # add a 'best fit' line\n",
    "# y = norm.pdf(train_data.price)\n",
    "# plt.plot(bins, y, 'r--')\n",
    "# plt.xlabel('Prices')\n",
    "# plt.ylabel('Probability')\n",
    "# plt.title('Histogram of Prices')\n",
    "\n",
    "# # Tweak spacing to prevent clipping of ylabel\n",
    "# plt.subplots_adjust(left=0.15)\n",
    "# plt.show()\n",
    "\n",
    "n, bins, patches = plt.hist(x = train_data.price, bins='auto', color='#0504aa',\n",
    "                            alpha=0.7, rwidth=0.85)\n",
    "plt.grid(axis='y', alpha=0.75)\n",
    "plt.xlabel('Prices')\n",
    "plt.ylabel('Frequency')\n",
    "plt.text(700000, 450, r'$\\mu = %s, sigma = %s$'%(mean, sigma))\n",
    "plt.title('Histogram of Prices')\n",
    "maxfreq = n.max()\n",
    "# Set a clean upper y-axis limit.\n",
    "plt.ylim(ymax=np.ceil(maxfreq / 10) * 10 if maxfreq % 10 else maxfreq + 10)\n"
   ]
  },
  {
   "cell_type": "code",
   "execution_count": 18,
   "metadata": {},
   "outputs": [
    {
     "ename": "ModuleNotFoundError",
     "evalue": "No module named 'xgboost'",
     "output_type": "error",
     "traceback": [
      "\u001b[1;31m---------------------------------------------------------------------------\u001b[0m",
      "\u001b[1;31mModuleNotFoundError\u001b[0m                       Traceback (most recent call last)",
      "\u001b[1;32m<ipython-input-18-9e928a52c80b>\u001b[0m in \u001b[0;36m<module>\u001b[1;34m\u001b[0m\n\u001b[0;32m      1\u001b[0m \u001b[1;32mfrom\u001b[0m \u001b[0msklearn\u001b[0m\u001b[1;33m.\u001b[0m\u001b[0mlinear_model\u001b[0m \u001b[1;32mimport\u001b[0m \u001b[0mElasticNet\u001b[0m\u001b[1;33m\u001b[0m\u001b[1;33m\u001b[0m\u001b[0m\n\u001b[0;32m      2\u001b[0m \u001b[1;32mfrom\u001b[0m \u001b[0msklearn\u001b[0m\u001b[1;33m.\u001b[0m\u001b[0mlinear_model\u001b[0m \u001b[1;32mimport\u001b[0m \u001b[0mRidge\u001b[0m\u001b[1;33m\u001b[0m\u001b[1;33m\u001b[0m\u001b[0m\n\u001b[1;32m----> 3\u001b[1;33m \u001b[1;32mimport\u001b[0m \u001b[0mxgboost\u001b[0m \u001b[1;32mas\u001b[0m \u001b[0mxgb\u001b[0m\u001b[1;33m\u001b[0m\u001b[1;33m\u001b[0m\u001b[0m\n\u001b[0m\u001b[0;32m      4\u001b[0m \u001b[1;33m\u001b[0m\u001b[0m\n\u001b[0;32m      5\u001b[0m \u001b[1;32mfrom\u001b[0m \u001b[0msklearn\u001b[0m\u001b[1;33m.\u001b[0m\u001b[0mmodel_selection\u001b[0m \u001b[1;32mimport\u001b[0m \u001b[0mtrain_test_split\u001b[0m\u001b[1;33m\u001b[0m\u001b[1;33m\u001b[0m\u001b[0m\n",
      "\u001b[1;31mModuleNotFoundError\u001b[0m: No module named 'xgboost'"
     ]
    }
   ],
   "source": [
    "from sklearn.linear_model import ElasticNet\n",
    "from sklearn.linear_model import Ridge\n",
    "import xgboost as xgb\n",
    "\n",
    "from sklearn.model_selection import train_test_split\n",
    "from sklearn.model_selection import KFold\n",
    "from sklearn.metrics import mean_squared_error\n",
    "\n",
    "from sklearn.model_selection import GridSearchCV"
   ]
  },
  {
   "cell_type": "code",
   "execution_count": 16,
   "metadata": {},
   "outputs": [
    {
     "ename": "NameError",
     "evalue": "name 'ElasticNetCV' is not defined",
     "output_type": "error",
     "traceback": [
      "\u001b[1;31m---------------------------------------------------------------------------\u001b[0m",
      "\u001b[1;31mNameError\u001b[0m                                 Traceback (most recent call last)",
      "\u001b[1;32m<ipython-input-16-5fea7e05b69c>\u001b[0m in \u001b[0;36m<module>\u001b[1;34m\u001b[0m\n\u001b[0;32m      1\u001b[0m \u001b[1;31m# Add model entries to model dictionary\u001b[0m\u001b[1;33m\u001b[0m\u001b[1;33m\u001b[0m\u001b[1;33m\u001b[0m\u001b[0m\n\u001b[0;32m      2\u001b[0m models = {\"Ridge\": (),\n\u001b[1;32m----> 3\u001b[1;33m           \u001b[1;34m\"Elastic Net\"\u001b[0m\u001b[1;33m:\u001b[0m \u001b[0mElasticNetCV\u001b[0m\u001b[1;33m(\u001b[0m\u001b[0mcv\u001b[0m\u001b[1;33m=\u001b[0m\u001b[1;36m5\u001b[0m\u001b[1;33m,\u001b[0m \u001b[0mrandom_state\u001b[0m\u001b[1;33m=\u001b[0m\u001b[1;36m0\u001b[0m\u001b[1;33m)\u001b[0m\u001b[1;33m,\u001b[0m\u001b[1;33m\u001b[0m\u001b[1;33m\u001b[0m\u001b[0m\n\u001b[0m\u001b[0;32m      4\u001b[0m           \"XGBoost\": xgb.XGBRegressor(objective ='reg:linear', colsample_bytree = 0.3, learning_rate = 0.1,\n\u001b[0;32m      5\u001b[0m                 max_depth = 5, alpha = 10, n_estimators = 10)\n",
      "\u001b[1;31mNameError\u001b[0m: name 'ElasticNetCV' is not defined"
     ]
    }
   ],
   "source": [
    "# Add model entries to model dictionary\n",
    "models = {\"Ridge\": (),\n",
    "          \"Elastic Net\": ElasticNetCV(cv=5, random_state=0),\n",
    "          \"XGBoost\": xgb.XGBRegressor(objective ='reg:linear', colsample_bytree = 0.3, learning_rate = 0.1,\n",
    "                max_depth = 5, alpha = 10, n_estimators = 10)\n",
    "         }"
   ]
  },
  {
   "cell_type": "code",
   "execution_count": null,
   "metadata": {},
   "outputs": [],
   "source": [
    "# K fold Validation\n",
    "X, y = train_data.iloc[:,:-1], train_data.iloc[:,-1]\n",
    "group = GroupKFold(n_splits = 10)"
   ]
  },
  {
   "cell_type": "code",
   "execution_count": null,
   "metadata": {},
   "outputs": [],
   "source": [
    "xg_reg = xgb.XGBRegressor(objective ='reg:linear', colsample_bytree = 0.3, learning_rate = 0.1,\n",
    "                max_depth = 5, alpha = 10, n_estimators = 10)\n",
    "xg_reg.fit(X_train,y_train)\n",
    "preds = xg_reg.predict(X_test)\n",
    "rmse = np.sqrt(mean_squared_error(y_test, preds))\n",
    "print(\"RMSE: %f\" % (rmse))"
   ]
  }
 ],
 "metadata": {
  "kernelspec": {
   "display_name": "Python 3",
   "language": "python",
   "name": "python3"
  },
  "language_info": {
   "codemirror_mode": {
    "name": "ipython",
    "version": 3
   },
   "file_extension": ".py",
   "mimetype": "text/x-python",
   "name": "python",
   "nbconvert_exporter": "python",
   "pygments_lexer": "ipython3",
   "version": "3.7.4"
  }
 },
 "nbformat": 4,
 "nbformat_minor": 1
}
